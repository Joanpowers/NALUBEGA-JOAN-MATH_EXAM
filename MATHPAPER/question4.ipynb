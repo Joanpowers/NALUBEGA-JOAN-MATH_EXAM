{
 "cells": [
  {
   "cell_type": "code",
   "execution_count": 2,
   "metadata": {},
   "outputs": [],
   "source": [
    "import numpy as np"
   ]
  },
  {
   "cell_type": "code",
   "execution_count": 2,
   "metadata": {},
   "outputs": [
    {
     "name": "stdout",
     "output_type": "stream",
     "text": [
      "[[1.  0.2 0.5]\n",
      " [0.2 1.  0.8]\n",
      " [0.5 0.8 1. ]]\n"
     ]
    }
   ],
   "source": [
    "#matrix = ([[1,0.2,0.5],[0.2,1,0.8],[0.5,0.8,1]])\n",
    "#creating a matrix in array form\n",
    "matrix = np.array([[1,0.2,0.5],[0.2,1,0.8],[0.5,0.8,1]])\n",
    "print(matrix)"
   ]
  },
  {
   "cell_type": "code",
   "execution_count": 6,
   "metadata": {},
   "outputs": [
    {
     "name": "stdout",
     "output_type": "stream",
     "text": [
      "[[ 1.56521739  0.86956522 -1.47826087]\n",
      " [ 0.86956522  3.26086957 -3.04347826]\n",
      " [-1.47826087 -3.04347826  4.17391304]]\n"
     ]
    }
   ],
   "source": [
    "#calculating matrix inversion of the matrix transpose\n",
    "#defining the matrix\n",
    "matrix = np.array([[1,0.2,0.5],[0.2,1,0.8],[0.5,0.8,1]])\n",
    "#calculating the inverse\n",
    "inverse_matrix = np.linalg.inv(matrix)\n",
    "print (inverse_matrix)"
   ]
  },
  {
   "cell_type": "code",
   "execution_count": 7,
   "metadata": {},
   "outputs": [
    {
     "name": "stdout",
     "output_type": "stream",
     "text": [
      "0.2299999999999999\n"
     ]
    }
   ],
   "source": [
    "#calculating the determinant of matrix\n",
    "#define the matrix\n",
    "matrix = np.array([[1,0.2,0.5],[0.2,1,0.8],[0.5,0.8,1]])\n",
    "\n",
    "#calculating the determinant\n",
    "determinant = np.linalg.det(matrix)\n",
    "print(determinant)\n",
    "\n"
   ]
  },
  {
   "cell_type": "code",
   "execution_count": 3,
   "metadata": {},
   "outputs": [
    {
     "name": "stdout",
     "output_type": "stream",
     "text": [
      "[[1.  0.2 0.5]\n",
      " [0.2 1.  0.8]\n",
      " [0.5 0.8 1. ]]\n"
     ]
    }
   ],
   "source": [
    "#matrix transpose\n",
    "matrix = np.array([[1,0.2,0.5],[0.2,1,0.8],[0.5,0.8,1]])\n",
    "matrix_transpose = np.transpose(matrix)\n",
    "print(matrix_transpose)"
   ]
  }
 ],
 "metadata": {
  "kernelspec": {
   "display_name": "Python 3",
   "language": "python",
   "name": "python3"
  },
  "language_info": {
   "codemirror_mode": {
    "name": "ipython",
    "version": 3
   },
   "file_extension": ".py",
   "mimetype": "text/x-python",
   "name": "python",
   "nbconvert_exporter": "python",
   "pygments_lexer": "ipython3",
   "version": "3.11.4"
  }
 },
 "nbformat": 4,
 "nbformat_minor": 2
}
