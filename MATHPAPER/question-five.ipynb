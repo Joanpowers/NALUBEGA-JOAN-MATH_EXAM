{
 "cells": [
  {
   "cell_type": "code",
   "execution_count": 1,
   "metadata": {},
   "outputs": [],
   "source": [
    "import numpy as np"
   ]
  },
  {
   "cell_type": "code",
   "execution_count": 9,
   "metadata": {},
   "outputs": [
    {
     "ename": "LinAlgError",
     "evalue": "Last 2 dimensions of the array must be square",
     "output_type": "error",
     "traceback": [
      "\u001b[1;31m---------------------------------------------------------------------------\u001b[0m",
      "\u001b[1;31mLinAlgError\u001b[0m                               Traceback (most recent call last)",
      "\u001b[1;32mc:\\Users\\Student\\Desktop\\witu c3\\MATHPAPER\\question-five.ipynb Cell 2\u001b[0m line \u001b[0;36m9\n\u001b[0;32m      <a href='vscode-notebook-cell:/c%3A/Users/Student/Desktop/witu%20c3/MATHPAPER/question-five.ipynb#W4sZmlsZQ%3D%3D?line=4'>5</a>\u001b[0m matrix1 \u001b[39m=\u001b[39m np\u001b[39m.\u001b[39marray([[\u001b[39m1\u001b[39m,\u001b[39m1\u001b[39m],[\u001b[39m2\u001b[39m,\u001b[39m1\u001b[39m],[\u001b[39m4\u001b[39m,\u001b[39m3\u001b[39m]])\n\u001b[0;32m      <a href='vscode-notebook-cell:/c%3A/Users/Student/Desktop/witu%20c3/MATHPAPER/question-five.ipynb#W4sZmlsZQ%3D%3D?line=5'>6</a>\u001b[0m matrix2\u001b[39m=\u001b[39m np\u001b[39m.\u001b[39marray([\u001b[39m4\u001b[39m,\u001b[39m10\u001b[39m,\u001b[39m2\u001b[39m])\n\u001b[1;32m----> <a href='vscode-notebook-cell:/c%3A/Users/Student/Desktop/witu%20c3/MATHPAPER/question-five.ipynb#W4sZmlsZQ%3D%3D?line=8'>9</a>\u001b[0m result \u001b[39m=\u001b[39m np\u001b[39m.\u001b[39;49mlinalg\u001b[39m.\u001b[39;49msolve(matrix1,matrix2)\n\u001b[0;32m     <a href='vscode-notebook-cell:/c%3A/Users/Student/Desktop/witu%20c3/MATHPAPER/question-five.ipynb#W4sZmlsZQ%3D%3D?line=10'>11</a>\u001b[0m x \u001b[39m=\u001b[39m result[\u001b[39m0\u001b[39m]\n\u001b[0;32m     <a href='vscode-notebook-cell:/c%3A/Users/Student/Desktop/witu%20c3/MATHPAPER/question-five.ipynb#W4sZmlsZQ%3D%3D?line=11'>12</a>\u001b[0m y \u001b[39m=\u001b[39m result[\u001b[39m1\u001b[39m]\n",
      "File \u001b[1;32mc:\\Users\\Student\\AppData\\Local\\Programs\\Python\\Python311\\Lib\\site-packages\\numpy\\linalg\\linalg.py:396\u001b[0m, in \u001b[0;36msolve\u001b[1;34m(a, b)\u001b[0m\n\u001b[0;32m    394\u001b[0m a, _ \u001b[39m=\u001b[39m _makearray(a)\n\u001b[0;32m    395\u001b[0m _assert_stacked_2d(a)\n\u001b[1;32m--> 396\u001b[0m _assert_stacked_square(a)\n\u001b[0;32m    397\u001b[0m b, wrap \u001b[39m=\u001b[39m _makearray(b)\n\u001b[0;32m    398\u001b[0m t, result_t \u001b[39m=\u001b[39m _commonType(a, b)\n",
      "File \u001b[1;32mc:\\Users\\Student\\AppData\\Local\\Programs\\Python\\Python311\\Lib\\site-packages\\numpy\\linalg\\linalg.py:213\u001b[0m, in \u001b[0;36m_assert_stacked_square\u001b[1;34m(*arrays)\u001b[0m\n\u001b[0;32m    211\u001b[0m m, n \u001b[39m=\u001b[39m a\u001b[39m.\u001b[39mshape[\u001b[39m-\u001b[39m\u001b[39m2\u001b[39m:]\n\u001b[0;32m    212\u001b[0m \u001b[39mif\u001b[39;00m m \u001b[39m!=\u001b[39m n:\n\u001b[1;32m--> 213\u001b[0m     \u001b[39mraise\u001b[39;00m LinAlgError(\u001b[39m'\u001b[39m\u001b[39mLast 2 dimensions of the array must be square\u001b[39m\u001b[39m'\u001b[39m)\n",
      "\u001b[1;31mLinAlgError\u001b[0m: Last 2 dimensions of the array must be square"
     ]
    }
   ],
   "source": [
    "#equation 1. x +y =4\n",
    "#2 . 2x +y = 10\n",
    "#3. 4x +3y =2\n",
    "\n",
    "matrix1 = np.array([[1,1],[2,1],[4,3]])\n",
    "matrix2= np.array([4,10,2])\n",
    "\n",
    "\n",
    "result = np.linalg.solve(matrix1,matrix2)\n",
    "\n",
    "x = result[0]\n",
    "y = result[1]\n",
    "\n",
    "print(x)\n",
    "print(y)"
   ]
  }
 ],
 "metadata": {
  "kernelspec": {
   "display_name": "Python 3",
   "language": "python",
   "name": "python3"
  },
  "language_info": {
   "codemirror_mode": {
    "name": "ipython",
    "version": 3
   },
   "file_extension": ".py",
   "mimetype": "text/x-python",
   "name": "python",
   "nbconvert_exporter": "python",
   "pygments_lexer": "ipython3",
   "version": "3.11.4"
  }
 },
 "nbformat": 4,
 "nbformat_minor": 2
}
